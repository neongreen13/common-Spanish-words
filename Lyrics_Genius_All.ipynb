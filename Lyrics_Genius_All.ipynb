{
 "cells": [
  {
   "cell_type": "markdown",
   "metadata": {},
   "source": [
    "# Step 4: Download Lyrics of Top Latin Songs "
   ]
  },
  {
   "cell_type": "code",
   "execution_count": 1,
   "metadata": {},
   "outputs": [
    {
     "name": "stderr",
     "output_type": "stream",
     "text": [
      "/usr/lib/python3.5/importlib/_bootstrap.py:222: RuntimeWarning: numpy.dtype size changed, may indicate binary incompatibility. Expected 96, got 88\n",
      "  return f(*args, **kwds)\n",
      "/usr/lib/python3.5/importlib/_bootstrap.py:222: RuntimeWarning: numpy.dtype size changed, may indicate binary incompatibility. Expected 96, got 88\n",
      "  return f(*args, **kwds)\n"
     ]
    }
   ],
   "source": [
    "import pandas as pd\n",
    "import numpy as np\n",
    "from bs4 import BeautifulSoup\n",
    "import lyricsgenius as genius\n",
    "from datetime import datetime\n",
    "from os import path"
   ]
  },
  {
   "cell_type": "code",
   "execution_count": 2,
   "metadata": {},
   "outputs": [
    {
     "data": {
      "text/html": [
       "<div>\n",
       "<style scoped>\n",
       "    .dataframe tbody tr th:only-of-type {\n",
       "        vertical-align: middle;\n",
       "    }\n",
       "\n",
       "    .dataframe tbody tr th {\n",
       "        vertical-align: top;\n",
       "    }\n",
       "\n",
       "    .dataframe thead th {\n",
       "        text-align: right;\n",
       "    }\n",
       "</style>\n",
       "<table border=\"1\" class=\"dataframe\">\n",
       "  <thead>\n",
       "    <tr style=\"text-align: right;\">\n",
       "      <th></th>\n",
       "      <th>Artist</th>\n",
       "      <th>Rank</th>\n",
       "      <th>Song Title</th>\n",
       "      <th>Year</th>\n",
       "    </tr>\n",
       "  </thead>\n",
       "  <tbody>\n",
       "    <tr>\n",
       "      <th>0</th>\n",
       "      <td>RKM &amp; Ken-Y</td>\n",
       "      <td>1</td>\n",
       "      <td>Down</td>\n",
       "      <td>2006</td>\n",
       "    </tr>\n",
       "    <tr>\n",
       "      <th>1</th>\n",
       "      <td>Shakira Featuring Wyclef Jean</td>\n",
       "      <td>2</td>\n",
       "      <td>Hips Don't Lie</td>\n",
       "      <td>2006</td>\n",
       "    </tr>\n",
       "    <tr>\n",
       "      <th>2</th>\n",
       "      <td>Daddy Yankee</td>\n",
       "      <td>3</td>\n",
       "      <td>Rompe</td>\n",
       "      <td>2006</td>\n",
       "    </tr>\n",
       "    <tr>\n",
       "      <th>3</th>\n",
       "      <td>Mariano Barba</td>\n",
       "      <td>4</td>\n",
       "      <td>Aliado Del Tiempo</td>\n",
       "      <td>2006</td>\n",
       "    </tr>\n",
       "    <tr>\n",
       "      <th>4</th>\n",
       "      <td>Wisin &amp; Yandel</td>\n",
       "      <td>5</td>\n",
       "      <td>Llame Pa' Verte</td>\n",
       "      <td>2006</td>\n",
       "    </tr>\n",
       "    <tr>\n",
       "      <th>5</th>\n",
       "      <td>Daddy Yankee</td>\n",
       "      <td>7</td>\n",
       "      <td>Machucando</td>\n",
       "      <td>2006</td>\n",
       "    </tr>\n",
       "    <tr>\n",
       "      <th>6</th>\n",
       "      <td>Don Omar</td>\n",
       "      <td>8</td>\n",
       "      <td>Angelito</td>\n",
       "      <td>2006</td>\n",
       "    </tr>\n",
       "    <tr>\n",
       "      <th>7</th>\n",
       "      <td>Aventura</td>\n",
       "      <td>9</td>\n",
       "      <td>Un Beso</td>\n",
       "      <td>2006</td>\n",
       "    </tr>\n",
       "    <tr>\n",
       "      <th>8</th>\n",
       "      <td>Mana</td>\n",
       "      <td>10</td>\n",
       "      <td>Labios Compartidos</td>\n",
       "      <td>2006</td>\n",
       "    </tr>\n",
       "    <tr>\n",
       "      <th>9</th>\n",
       "      <td>Aventura Featuring Don Omar</td>\n",
       "      <td>11</td>\n",
       "      <td>Ella Y Yo</td>\n",
       "      <td>2006</td>\n",
       "    </tr>\n",
       "  </tbody>\n",
       "</table>\n",
       "</div>"
      ],
      "text/plain": [
       "                          Artist  Rank          Song Title  Year\n",
       "0                    RKM & Ken-Y     1                Down  2006\n",
       "1  Shakira Featuring Wyclef Jean     2      Hips Don't Lie  2006\n",
       "2                   Daddy Yankee     3               Rompe  2006\n",
       "3                  Mariano Barba     4   Aliado Del Tiempo  2006\n",
       "4                 Wisin & Yandel     5     Llame Pa' Verte  2006\n",
       "5                   Daddy Yankee     7          Machucando  2006\n",
       "6                       Don Omar     8            Angelito  2006\n",
       "7                       Aventura     9             Un Beso  2006\n",
       "8                           Mana    10  Labios Compartidos  2006\n",
       "9    Aventura Featuring Don Omar    11           Ella Y Yo  2006"
      ]
     },
     "execution_count": 2,
     "metadata": {},
     "output_type": "execute_result"
    }
   ],
   "source": [
    "all_songs = pd.read_excel('Latin_Songs.xlsx', sheet_name='Sheet1')\n",
    "all_songs.head(10)"
   ]
  },
  {
   "cell_type": "code",
   "execution_count": 4,
   "metadata": {},
   "outputs": [],
   "source": [
    "api = genius.Genius(\"Client Key Goes Here\",sleep_time=0.01, verbose=False)"
   ]
  },
  {
   "cell_type": "code",
   "execution_count": null,
   "metadata": {},
   "outputs": [],
   "source": [
    "all_song_data = pd.DataFrame()\n",
    "start_time = datetime.now()\n",
    "print(\"Started at {}\".format(start_time))\n",
    "for i in range(0, len(all_songs)):\n",
    "    rolling_pct = int((i/len(all_songs))*100)\n",
    "    print(str(rolling_pct) + \"% complete.\" + \" Collecting Record \" + str(i) +\" of \" +\n",
    "          str(len(all_songs)) +\". Year \" + str(all_songs.iloc[i]['Year']) + \".\" + \" Currently collecting \" + \n",
    "          all_songs.iloc[i]['Song Title'] + \" by \" + all_songs.iloc[i]['Artist'] + \" \"*50, end=\"\\r\")\n",
    "    song_title = all_songs.iloc[i]['Song Title']\n",
    "    song_title = re.sub(\" and \", \" & \", song_title)\n",
    "    artist_name = all_songs.iloc[i]['Artist']\n",
    "    artist_name = re.sub(\" and \", \" & \", artist_name)\n",
    "\n",
    "    try:\n",
    "        song = api.search_song(song_title, artist=artist_name)\n",
    "        #print(song)\n",
    "        song_album = song.album\n",
    "        song_album_url = song.album_url\n",
    "        featured_artists = song.featured_artists\n",
    "        song_lyrics = re.sub(\"\\n\", \" \", song.lyrics) #Remove newline breaks, we won't need them.\n",
    "        song_media = song.media\n",
    "        song_url = song.url\n",
    "        song_writer_artists = song.writer_artists\n",
    "        song_year = song.year\n",
    "    except:\n",
    "        song_album = \"null\"\n",
    "        song_album_url = \"null\"\n",
    "        featured_artists = \"null\"\n",
    "        song_lyrics = \"null\"\n",
    "        song_media = \"null\"\n",
    "        song_url = \"null\"\n",
    "        song_writer_artists = \"null\"\n",
    "        song_year = \"null\"\n",
    "        \n",
    "    row = {\n",
    "        \"Year\": all_songs.iloc[i]['Year'],\n",
    "        \"Rank\": all_songs.iloc[i]['Rank'],\n",
    "        \"Song Title\": all_songs.iloc[i]['Song Title'],\n",
    "        \"Artist\": all_songs.iloc[i]['Artist'],\n",
    "        \"Album\": song_album,\n",
    "        \"Album URL\": song_album_url,\n",
    "        \"Featured Artists\": featured_artists,\n",
    "        \"Lyrics\": song_lyrics,\n",
    "        \"Media\": song_media,\n",
    "        \"Song URL\": song_url,\n",
    "        \"Writers\": song_writer_artists,\n",
    "        \"Release Date\": song_year\n",
    "    }\n",
    "    all_song_data = all_song_data.append(row, ignore_index=True)\n",
    "end_time = datetime.now()\n",
    "print(\"\\nCompleted at {}\".format(start_time))\n",
    "print(\"Total time to collect: {}\".format(end_time - start_time))"
   ]
  },
  {
   "cell_type": "code",
   "execution_count": null,
   "metadata": {},
   "outputs": [],
   "source": [
    "all_song_data.head(5)"
   ]
  },
  {
   "cell_type": "markdown",
   "metadata": {},
   "source": [
    "Resources/Citation for Code:\n",
    "- https://github.com/sharpie-007/dataAndMusic/blob/master/49%20Years%20of%20Music%20-%20Collection%20and%20Analysis.ipynb"
   ]
  }
 ],
 "metadata": {
  "kernelspec": {
   "display_name": "Python (myENV)",
   "language": "python",
   "name": "myenv"
  },
  "language_info": {
   "codemirror_mode": {
    "name": "ipython",
    "version": 3
   },
   "file_extension": ".py",
   "mimetype": "text/x-python",
   "name": "python",
   "nbconvert_exporter": "python",
   "pygments_lexer": "ipython3",
   "version": "3.5.2"
  }
 },
 "nbformat": 4,
 "nbformat_minor": 2
}
